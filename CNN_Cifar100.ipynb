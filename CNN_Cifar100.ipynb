{
  "nbformat": 4,
  "nbformat_minor": 0,
  "metadata": {
    "colab": {
      "provenance": []
    },
    "kernelspec": {
      "name": "python3",
      "display_name": "Python 3"
    },
    "language_info": {
      "name": "python"
    }
  },
  "cells": [
    {
      "cell_type": "code",
      "execution_count": null,
      "metadata": {
        "id": "EglTym5hOi00"
      },
      "outputs": [],
      "source": [
        "import torch\n",
        "import torchvision\n",
        "import torchvision.transforms as transforms\n",
        "import torch.nn as nn\n",
        "import torch.nn.functional as F"
      ]
    },
    {
      "cell_type": "code",
      "source": [
        "#preprocessing the images\n",
        "transform = transforms.Compose([transforms.ToTensor(),\n",
        "                                transforms.Normalize((0.5,0.5,0.5),(0.5,0.5,0.5))])\n",
        "# Converts a PIL Image or numpy array to a PyTorch tensor\n",
        "# Normalize tensor values"
      ],
      "metadata": {
        "id": "Q52rvyMcPCJf"
      },
      "execution_count": null,
      "outputs": []
    },
    {
      "cell_type": "code",
      "source": [
        "training_data=torchvision.datasets.CIFAR100(root = './data',\n",
        "                                            train=True,\n",
        "                                            download=True,\n",
        "                                            transform=transform)\n",
        "testing_data=torchvision.datasets.CIFAR100(root = './data',\n",
        "                                            train=False,\n",
        "                                            download=True,\n",
        "                                            transform=transform)"
      ],
      "metadata": {
        "colab": {
          "base_uri": "https://localhost:8080/"
        },
        "id": "LPTDFDs_PHUB",
        "outputId": "27b39733-272a-4034-9409-acab98e8fc80"
      },
      "execution_count": null,
      "outputs": [
        {
          "output_type": "stream",
          "name": "stdout",
          "text": [
            "Files already downloaded and verified\n",
            "Files already downloaded and verified\n"
          ]
        }
      ]
    },
    {
      "cell_type": "code",
      "source": [
        "batch_size=64\n",
        "\n",
        "train_dataloader=torch.utils.data.DataLoader(training_data,batch_size=batch_size)\n",
        "test_dataloader=torch.utils.data.DataLoader(testing_data,batch_size=batch_size)"
      ],
      "metadata": {
        "id": "P0pFvlfnPaQz"
      },
      "execution_count": null,
      "outputs": []
    },
    {
      "cell_type": "code",
      "source": [
        "#Architecture\n",
        "\n",
        "class CNN(nn.Module):\n",
        "\n",
        "  def __init__(self):\n",
        "    super(CNN,self).__init__()\n",
        "\n",
        "    self.conv1 = nn.Conv2d(3,6,5)\n",
        "    self.pool = nn.MaxPool2d(2,2)\n",
        "    self.conv2 = nn.Conv2d(6,16,5)\n",
        "    self.flatten = nn.Flatten(start_dim=1)\n",
        "    self.fc1 = nn.Linear(1600,200)\n",
        "    self.fc2 = nn.Linear(200,160)\n",
        "    self.fc3 = nn.Linear(160,120)\n",
        "    self.fc4 = nn.Linear(120,100)\n",
        "  def forward(self,x):\n",
        "    x = self.conv1(x) #i/p:3,32*32     o/p:6,28*28\n",
        "    #x = F.relu(x)\n",
        "    x = self.pool(x) # coverting 6,14*14\n",
        "    #print(x.shape)\n",
        "    x = self.conv2(x) #16*10*10\n",
        "    #print(x.shape)\n",
        "    x = self.flatten(x)\n",
        "    #print(x.shape)\n",
        "    x = self.fc1(x)\n",
        "    #print(x.shape)\n",
        "    x = F.relu(x)\n",
        "    #print(x.shape)\n",
        "    x = self.fc2(x)\n",
        "    #print(x.shape)\n",
        "    x = F.sigmoid(x)\n",
        "    x = self.fc3(x)\n",
        "    x = F.relu(x)\n",
        "    x = self.fc4(x)\n",
        "    #print(x.shape)\n",
        "    return x"
      ],
      "metadata": {
        "id": "nVNP7gGyPoq0"
      },
      "execution_count": null,
      "outputs": []
    },
    {
      "cell_type": "code",
      "source": [
        "device = (\"cuda\" if torch.cuda.is_available() else 'cpu')"
      ],
      "metadata": {
        "id": "exIlqBJZPwI-"
      },
      "execution_count": null,
      "outputs": []
    },
    {
      "cell_type": "code",
      "source": [
        "model=CNN()\n",
        "model.to(device)\n",
        "model"
      ],
      "metadata": {
        "id": "rX8BrweSP12N",
        "colab": {
          "base_uri": "https://localhost:8080/"
        },
        "outputId": "25a5d46b-1dba-4887-c55a-5cab592bb78d"
      },
      "execution_count": null,
      "outputs": [
        {
          "output_type": "execute_result",
          "data": {
            "text/plain": [
              "CNN(\n",
              "  (conv1): Conv2d(3, 6, kernel_size=(5, 5), stride=(1, 1))\n",
              "  (pool): MaxPool2d(kernel_size=2, stride=2, padding=0, dilation=1, ceil_mode=False)\n",
              "  (conv2): Conv2d(6, 16, kernel_size=(5, 5), stride=(1, 1))\n",
              "  (flatten): Flatten(start_dim=1, end_dim=-1)\n",
              "  (fc1): Linear(in_features=1600, out_features=200, bias=True)\n",
              "  (fc2): Linear(in_features=200, out_features=160, bias=True)\n",
              "  (fc3): Linear(in_features=160, out_features=120, bias=True)\n",
              "  (fc4): Linear(in_features=120, out_features=100, bias=True)\n",
              ")"
            ]
          },
          "metadata": {},
          "execution_count": 28
        }
      ]
    },
    {
      "cell_type": "code",
      "source": [
        "loss_fn=nn.CrossEntropyLoss()\n",
        "optimizer=torch.optim.SGD(model.parameters(),lr=1e-2)"
      ],
      "metadata": {
        "id": "vIsDnPAQhYQK"
      },
      "execution_count": null,
      "outputs": []
    },
    {
      "cell_type": "code",
      "source": [
        "def training(train_dataloader,model,loss_,optimizer):\n",
        "  model.train() # Set the model to training mode\n",
        "#train_loss = 0.0\n",
        "#pass every batch of data to the model\n",
        "  for batch, (X,y) in enumerate(train_dataloader):\n",
        "    X = X.to(device)\n",
        "    y = y.to(device)\n",
        "\n",
        "    pred = model(X) # Forward pass: Compute model predictions\n",
        "    #print(pred)\n",
        "    #print(y)\n",
        "    loss = loss_fn(pred,y) # Compute the loss\n",
        "    #print(loss)\n",
        "    optimizer.zero_grad() # Zero the gradients\n",
        "    loss.backward()  # Backpropagate the gradients\n",
        "    optimizer.step() # Update the model's parameters\n",
        "\n",
        "    if batch % 100 ==0:\n",
        "      print(f'loss:{loss.item()}')"
      ],
      "metadata": {
        "id": "mksqrgmWhY9W"
      },
      "execution_count": null,
      "outputs": []
    },
    {
      "cell_type": "code",
      "source": [
        "def testing(test_dataloader,model,loss_):\n",
        "  model.eval()  # Set the model to evaluation mode\n",
        "  test_loss = 0.0 # Initialize the test loss\n",
        "  correct = 0 # Initialize the number of correct predictions\n",
        "  for X,y in test_dataloader:\n",
        "    X = X.to(device)\n",
        "    y = y.to(device)\n",
        "\n",
        "    pred = model(X) # Forward pass: Compute model predictions\n",
        "    #print(pred)\n",
        "    correct += (pred.argmax(1) == y).type(torch.float).sum().item() # Calculate the number of correct predictions\n",
        "    test_loss += loss_fn(pred,y).item()  # Compute the loss for this batch and accumulate it\n",
        "  test_loss = test_loss/len(test_dataloader)\n",
        "  print (len(test_dataloader.dataset))\n",
        "  accuracy = (correct/len(test_dataloader.dataset))*100 # Calculate accuracy as the percentage of correct predictions\n",
        "  print (f'Accuracy : {accuracy} with test error {test_loss}')\n",
        "    #print(correct)"
      ],
      "metadata": {
        "id": "zUdK6zNQiVEa"
      },
      "execution_count": null,
      "outputs": []
    },
    {
      "cell_type": "code",
      "source": [
        "epochs = 9 #how many times you have to send data to the model\n",
        "\n",
        "for t in range(epochs):\n",
        "  training(train_dataloader,model,loss_fn,optimizer) #Training phase: Pass training data through the model, compute loss, and optimize\n",
        "  testing(test_dataloader,model,loss_fn) #Testing phase: Evaluate the model on the test data\n",
        "  print(f' ==================== EPOCH : {t} ============================')"
      ],
      "metadata": {
        "colab": {
          "base_uri": "https://localhost:8080/"
        },
        "id": "GX1YtuZXiWGy",
        "outputId": "a8038875-a91d-4d3e-f6fe-144183c9645a"
      },
      "execution_count": null,
      "outputs": [
        {
          "output_type": "stream",
          "name": "stdout",
          "text": [
            "loss:4.601317405700684\n",
            "loss:4.593739032745361\n",
            "loss:4.630115985870361\n",
            "loss:4.632089614868164\n",
            "loss:4.606237411499023\n",
            "loss:4.6066412925720215\n",
            "loss:4.603342533111572\n",
            "loss:4.600522994995117\n",
            "10000\n",
            "Accuracy : 1.0 with test error 4.606433999006915\n",
            " ==================== EPOCH : 0 ============================\n",
            "loss:4.608252048492432\n",
            "loss:4.600268840789795\n",
            "loss:4.611692905426025\n",
            "loss:4.6190314292907715\n",
            "loss:4.606363773345947\n",
            "loss:4.604320526123047\n",
            "loss:4.604795932769775\n",
            "loss:4.602349758148193\n",
            "10000\n",
            "Accuracy : 1.04 with test error 4.605513098892892\n",
            " ==================== EPOCH : 1 ============================\n",
            "loss:4.608470439910889\n",
            "loss:4.60114860534668\n",
            "loss:4.60848331451416\n",
            "loss:4.615307807922363\n",
            "loss:4.605639934539795\n",
            "loss:4.6034746170043945\n",
            "loss:4.606010913848877\n",
            "loss:4.60255241394043\n",
            "10000\n",
            "Accuracy : 1.16 with test error 4.604990327434176\n",
            " ==================== EPOCH : 2 ============================\n",
            "loss:4.608027935028076\n",
            "loss:4.600627899169922\n",
            "loss:4.607518196105957\n",
            "loss:4.613194465637207\n",
            "loss:4.604915142059326\n",
            "loss:4.602806568145752\n",
            "loss:4.606392860412598\n",
            "loss:4.602105140686035\n",
            "10000\n",
            "Accuracy : 1.1199999999999999 with test error 4.604399201216971\n",
            " ==================== EPOCH : 3 ============================\n",
            "loss:4.607028007507324\n",
            "loss:4.600300312042236\n",
            "loss:4.606414794921875\n",
            "loss:4.6113409996032715\n",
            "loss:4.603781223297119\n",
            "loss:4.602370738983154\n",
            "loss:4.605833053588867\n",
            "loss:4.601357460021973\n",
            "10000\n",
            "Accuracy : 1.17 with test error 4.603313856064134\n",
            " ==================== EPOCH : 4 ============================\n",
            "loss:4.6056976318359375\n",
            "loss:4.599456310272217\n",
            "loss:4.6050519943237305\n",
            "loss:4.60862922668457\n",
            "loss:4.601551055908203\n",
            "loss:4.600746154785156\n",
            "loss:4.604468822479248\n",
            "loss:4.598999977111816\n",
            "10000\n",
            "Accuracy : 2.13 with test error 4.6001749312042435\n",
            " ==================== EPOCH : 5 ============================\n",
            "loss:4.602713108062744\n",
            "loss:4.596413612365723\n",
            "loss:4.60157585144043\n",
            "loss:4.600912570953369\n",
            "loss:4.593024253845215\n",
            "loss:4.592558860778809\n",
            "loss:4.5955891609191895\n",
            "loss:4.5849409103393555\n",
            "10000\n",
            "Accuracy : 2.67 with test error 4.583746481852926\n",
            " ==================== EPOCH : 6 ============================\n",
            "loss:4.590332984924316\n",
            "loss:4.577538013458252\n",
            "loss:4.584342002868652\n",
            "loss:4.551565170288086\n",
            "loss:4.533262729644775\n",
            "loss:4.535538196563721\n",
            "loss:4.542227745056152\n",
            "loss:4.489789962768555\n",
            "10000\n",
            "Accuracy : 2.52 with test error 4.4960846931311735\n",
            " ==================== EPOCH : 7 ============================\n",
            "loss:4.513346195220947\n",
            "loss:4.480409145355225\n",
            "loss:4.489723205566406\n",
            "loss:4.351306915283203\n",
            "loss:4.360270023345947\n",
            "loss:4.414908409118652\n",
            "loss:4.399442195892334\n",
            "loss:4.334129333496094\n",
            "10000\n",
            "Accuracy : 2.69 with test error 4.384376765816075\n",
            " ==================== EPOCH : 8 ============================\n"
          ]
        }
      ]
    }
  ]
}